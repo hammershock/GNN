{
 "cells": [
  {
   "cell_type": "markdown",
   "source": [
    "# 神经网络与深度学习实验四\n",
    "## 附加题：使用lstm实现文本分类（与GNN形成对照）"
   ],
   "metadata": {
    "collapsed": false
   },
   "id": "6200224950d04fec"
  },
  {
   "cell_type": "markdown",
   "source": [
    "## 零、配置环境"
   ],
   "metadata": {
    "collapsed": false
   },
   "id": "542bb39bb2e53806"
  },
  {
   "cell_type": "code",
   "execution_count": 89,
   "outputs": [
    {
     "name": "stdout",
     "output_type": "stream",
     "text": [
      "Requirement already satisfied: torch in ./venv/lib/python3.11/site-packages (2.1.1)\r\n",
      "Requirement already satisfied: filelock in ./venv/lib/python3.11/site-packages (from torch) (3.13.1)\r\n",
      "Requirement already satisfied: typing-extensions in ./venv/lib/python3.11/site-packages (from torch) (4.8.0)\r\n",
      "Requirement already satisfied: sympy in ./venv/lib/python3.11/site-packages (from torch) (1.12)\r\n",
      "Requirement already satisfied: networkx in ./venv/lib/python3.11/site-packages (from torch) (3.2.1)\r\n",
      "Requirement already satisfied: jinja2 in ./venv/lib/python3.11/site-packages (from torch) (3.1.2)\r\n",
      "Requirement already satisfied: fsspec in ./venv/lib/python3.11/site-packages (from torch) (2023.10.0)\r\n",
      "Requirement already satisfied: nvidia-cuda-nvrtc-cu12==12.1.105 in ./venv/lib/python3.11/site-packages (from torch) (12.1.105)\r\n",
      "Requirement already satisfied: nvidia-cuda-runtime-cu12==12.1.105 in ./venv/lib/python3.11/site-packages (from torch) (12.1.105)\r\n",
      "Requirement already satisfied: nvidia-cuda-cupti-cu12==12.1.105 in ./venv/lib/python3.11/site-packages (from torch) (12.1.105)\r\n",
      "Requirement already satisfied: nvidia-cudnn-cu12==8.9.2.26 in ./venv/lib/python3.11/site-packages (from torch) (8.9.2.26)\r\n",
      "Requirement already satisfied: nvidia-cublas-cu12==12.1.3.1 in ./venv/lib/python3.11/site-packages (from torch) (12.1.3.1)\r\n",
      "Requirement already satisfied: nvidia-cufft-cu12==11.0.2.54 in ./venv/lib/python3.11/site-packages (from torch) (11.0.2.54)\r\n",
      "Requirement already satisfied: nvidia-curand-cu12==10.3.2.106 in ./venv/lib/python3.11/site-packages (from torch) (10.3.2.106)\r\n",
      "Requirement already satisfied: nvidia-cusolver-cu12==11.4.5.107 in ./venv/lib/python3.11/site-packages (from torch) (11.4.5.107)\r\n",
      "Requirement already satisfied: nvidia-cusparse-cu12==12.1.0.106 in ./venv/lib/python3.11/site-packages (from torch) (12.1.0.106)\r\n",
      "Requirement already satisfied: nvidia-nccl-cu12==2.18.1 in ./venv/lib/python3.11/site-packages (from torch) (2.18.1)\r\n",
      "Requirement already satisfied: nvidia-nvtx-cu12==12.1.105 in ./venv/lib/python3.11/site-packages (from torch) (12.1.105)\r\n",
      "Requirement already satisfied: triton==2.1.0 in ./venv/lib/python3.11/site-packages (from torch) (2.1.0)\r\n",
      "Requirement already satisfied: nvidia-nvjitlink-cu12 in ./venv/lib/python3.11/site-packages (from nvidia-cusolver-cu12==11.4.5.107->torch) (12.3.101)\r\n",
      "Requirement already satisfied: MarkupSafe>=2.0 in ./venv/lib/python3.11/site-packages (from jinja2->torch) (2.1.3)\r\n",
      "Requirement already satisfied: mpmath>=0.19 in ./venv/lib/python3.11/site-packages (from sympy->torch) (1.3.0)\r\n",
      "Requirement already satisfied: pandas in ./venv/lib/python3.11/site-packages (2.1.3)\r\n",
      "Requirement already satisfied: numpy<2,>=1.23.2 in ./venv/lib/python3.11/site-packages (from pandas) (1.26.2)\r\n",
      "Requirement already satisfied: python-dateutil>=2.8.2 in ./venv/lib/python3.11/site-packages (from pandas) (2.8.2)\r\n",
      "Requirement already satisfied: pytz>=2020.1 in ./venv/lib/python3.11/site-packages (from pandas) (2023.3.post1)\r\n",
      "Requirement already satisfied: tzdata>=2022.1 in ./venv/lib/python3.11/site-packages (from pandas) (2023.3)\r\n",
      "Requirement already satisfied: six>=1.5 in ./venv/lib/python3.11/site-packages (from python-dateutil>=2.8.2->pandas) (1.16.0)\r\n",
      "Requirement already satisfied: matplotlib in ./venv/lib/python3.11/site-packages (3.8.2)\r\n",
      "Requirement already satisfied: contourpy>=1.0.1 in ./venv/lib/python3.11/site-packages (from matplotlib) (1.2.0)\r\n",
      "Requirement already satisfied: cycler>=0.10 in ./venv/lib/python3.11/site-packages (from matplotlib) (0.12.1)\r\n",
      "Requirement already satisfied: fonttools>=4.22.0 in ./venv/lib/python3.11/site-packages (from matplotlib) (4.45.1)\r\n",
      "Requirement already satisfied: kiwisolver>=1.3.1 in ./venv/lib/python3.11/site-packages (from matplotlib) (1.4.5)\r\n",
      "Requirement already satisfied: numpy<2,>=1.21 in ./venv/lib/python3.11/site-packages (from matplotlib) (1.26.2)\r\n",
      "Requirement already satisfied: packaging>=20.0 in ./venv/lib/python3.11/site-packages (from matplotlib) (23.2)\r\n",
      "Requirement already satisfied: pillow>=8 in ./venv/lib/python3.11/site-packages (from matplotlib) (10.1.0)\r\n",
      "Requirement already satisfied: pyparsing>=2.3.1 in ./venv/lib/python3.11/site-packages (from matplotlib) (3.1.1)\r\n",
      "Requirement already satisfied: python-dateutil>=2.7 in ./venv/lib/python3.11/site-packages (from matplotlib) (2.8.2)\r\n",
      "Requirement already satisfied: six>=1.5 in ./venv/lib/python3.11/site-packages (from python-dateutil>=2.7->matplotlib) (1.16.0)\r\n",
      "Requirement already satisfied: tqdm in ./venv/lib/python3.11/site-packages (4.66.1)\r\n",
      "Requirement already satisfied: numpy in ./venv/lib/python3.11/site-packages (1.26.2)\r\n"
     ]
    }
   ],
   "source": [
    "!pip install torch\n",
    "!pip install pandas\n",
    "!pip install matplotlib\n",
    "!pip install tqdm\n",
    "!pip install numpy"
   ],
   "metadata": {
    "collapsed": false,
    "ExecuteTime": {
     "end_time": "2023-11-30T07:00:27.399944210Z",
     "start_time": "2023-11-30T07:00:21.991251961Z"
    }
   },
   "id": "dbe5fb21b9d06456"
  },
  {
   "cell_type": "markdown",
   "source": [
    "## 一、导入模块\n",
    "------"
   ],
   "metadata": {
    "collapsed": false
   },
   "id": "e26d1798236ffa86"
  },
  {
   "cell_type": "code",
   "execution_count": 90,
   "id": "initial_id",
   "metadata": {
    "collapsed": true,
    "ExecuteTime": {
     "end_time": "2023-11-30T07:00:27.407619810Z",
     "start_time": "2023-11-30T07:00:27.405057977Z"
    }
   },
   "outputs": [],
   "source": [
    "import torch\n",
    "import numpy as np\n",
    "import pandas as pd\n",
    "from torch.utils.data import Dataset, DataLoader\n",
    "from matplotlib import pyplot as plt\n",
    "from tqdm import tqdm\n",
    "import torch.nn.functional as F"
   ]
  },
  {
   "cell_type": "markdown",
   "source": [
    "## 二、读取数据表格\n",
    "------"
   ],
   "metadata": {
    "collapsed": false
   },
   "id": "1ab8d520aad04a0a"
  },
  {
   "cell_type": "code",
   "execution_count": 91,
   "outputs": [],
   "source": [
    "df = pd.read_csv('datasets/r8/r8.csv')\n",
    "documents = df['text'].tolist()\n",
    "labels = df['intent'].tolist()\n",
    "label2idx = {label: idx for idx, label in enumerate(df['intent'].unique().tolist())}"
   ],
   "metadata": {
    "collapsed": false,
    "ExecuteTime": {
     "end_time": "2023-11-30T07:00:27.507730125Z",
     "start_time": "2023-11-30T07:00:27.409770860Z"
    }
   },
   "id": "67d892ca91f076e2"
  },
  {
   "cell_type": "markdown",
   "source": [
    "## 三、生成随机嵌入\n",
    "------"
   ],
   "metadata": {
    "collapsed": false
   },
   "id": "31de962d9c646f58"
  },
  {
   "cell_type": "code",
   "execution_count": 92,
   "outputs": [],
   "source": [
    "embed_dim = 64\n",
    "num_classes = len(label2idx)  # 类别的数量\n",
    "\n",
    "unique_words = set(\" \".join(documents).split(\" \"))  # 长度为14575的词表\n",
    "embeddings = np.random.rand(len(unique_words)+1, embed_dim)  # 生成embed_dim维度的随机嵌入\n",
    "embeddings[-1, :] = 0\n",
    "word2index = {word: idx for idx, word in enumerate(unique_words)}"
   ],
   "metadata": {
    "collapsed": false,
    "ExecuteTime": {
     "end_time": "2023-11-30T07:00:27.568257818Z",
     "start_time": "2023-11-30T07:00:27.561618614Z"
    }
   },
   "id": "d7d0e97349fc23ae"
  },
  {
   "cell_type": "markdown",
   "source": [
    "## 可视化序列长度直方图"
   ],
   "metadata": {
    "collapsed": false
   },
   "id": "c4e4b29ac5016010"
  },
  {
   "cell_type": "code",
   "execution_count": 93,
   "outputs": [
    {
     "data": {
      "text/plain": "<Figure size 640x480 with 1 Axes>",
      "image/png": "[encoded data removed]"
     },
     "metadata": {},
     "output_type": "display_data"
    }
   ],
   "source": [
    "lengths = [len(document.split(' ')) for document in documents]\n",
    "plt.hist(lengths, bins=20, color='r')\n",
    "plt.title('document length (num words)')\n",
    "plt.show()"
   ],
   "metadata": {
    "collapsed": false,
    "ExecuteTime": {
     "end_time": "2023-11-30T07:00:27.748691088Z",
     "start_time": "2023-11-30T07:00:27.569665284Z"
    }
   },
   "id": "3e15d806d46fd3dd"
  },
  {
   "cell_type": "markdown",
   "source": [],
   "metadata": {
    "collapsed": false
   },
   "id": "9a9641a7c1094791"
  },
  {
   "cell_type": "markdown",
   "source": [
    "## 四、构建数据集\n",
    "------"
   ],
   "metadata": {
    "collapsed": false
   },
   "id": "50fa263caf803a3d"
  },
  {
   "cell_type": "code",
   "execution_count": 94,
   "outputs": [],
   "source": [
    "class DocumentDataset(Dataset):\n",
    "    def __init__(self, documents, labels, seq_len):\n",
    "        self.documents = documents\n",
    "        self.labels = labels\n",
    "        self.seq_len = seq_len\n",
    "\n",
    "    def __len__(self):\n",
    "        return len(self.documents)\n",
    "\n",
    "    def __getitem__(self, index):\n",
    "        document = self.documents[index]\n",
    "        label = label2idx[self.labels[index]]\n",
    "        \n",
    "        # Split the document into words and convert to indices\n",
    "        word_indices = np.array([word2index.get(word, 0) for word in document.split(' ')])\n",
    "        \n",
    "        # Pad or truncate the sequence\n",
    "        if len(word_indices) < self.seq_len:\n",
    "            word_indices = np.pad(word_indices, (0, self.seq_len - len(word_indices)), 'constant')\n",
    "        else:\n",
    "            word_indices = word_indices[:self.seq_len]\n",
    "\n",
    "        # Convert indices to embeddings\n",
    "        document = embeddings[word_indices]\n",
    "\n",
    "        return torch.tensor(document, dtype=torch.float32), torch.tensor(label, dtype=torch.long)"
   ],
   "metadata": {
    "collapsed": false,
    "ExecuteTime": {
     "end_time": "2023-11-30T07:00:27.755127824Z",
     "start_time": "2023-11-30T07:00:27.747240031Z"
    }
   },
   "id": "4239e7a6c60f5a33"
  },
  {
   "cell_type": "markdown",
   "source": [
    "## 五、搭建lstm模型\n",
    "------"
   ],
   "metadata": {
    "collapsed": false
   },
   "id": "c588965bfa70aa40"
  },
  {
   "cell_type": "code",
   "execution_count": 95,
   "outputs": [],
   "source": [
    "class LSTM(torch.nn.Module):\n",
    "    name = 'lstm'\n",
    "    def __init__(self, input_dim, hidden_dim, output_dim, num_layers=1):\n",
    "        super(LSTM, self).__init__()\n",
    "        self.hidden_dim = hidden_dim\n",
    "        self.num_layers = num_layers\n",
    "\n",
    "        self.lstm = torch.nn.LSTM(input_dim, hidden_dim, num_layers, batch_first=True)\n",
    "        self.fc = torch.nn.Linear(hidden_dim, hidden_dim)\n",
    "        self.fc2 = torch.nn.Linear(hidden_dim, output_dim)\n",
    "\n",
    "    def forward(self, x):\n",
    "        h0 = torch.zeros(self.num_layers, x.size(0), self.hidden_dim).to(x.device)\n",
    "        c0 = torch.zeros(self.num_layers, x.size(0), self.hidden_dim).to(x.device)\n",
    "\n",
    "        out, _ = self.lstm(x, (h0, c0))\n",
    "        out = self.fc(out[:, -1, :])  # 最后一个时间步的隐藏状态做分类\n",
    "        out = self.fc2(F.relu(out))\n",
    "\n",
    "        return out"
   ],
   "metadata": {
    "collapsed": false,
    "ExecuteTime": {
     "end_time": "2023-11-30T07:00:27.801094758Z",
     "start_time": "2023-11-30T07:00:27.764351593Z"
    }
   },
   "id": "b64429d2feb21f4"
  },
  {
   "cell_type": "markdown",
   "source": [
    "### 检查cuda是否可用"
   ],
   "metadata": {
    "collapsed": false
   },
   "id": "bce1654d5b76a351"
  },
  {
   "cell_type": "code",
   "execution_count": 96,
   "outputs": [
    {
     "data": {
      "text/plain": "True"
     },
     "execution_count": 96,
     "metadata": {},
     "output_type": "execute_result"
    }
   ],
   "source": [
    "torch.cuda.is_available()"
   ],
   "metadata": {
    "collapsed": false,
    "ExecuteTime": {
     "end_time": "2023-11-30T07:00:27.850372038Z",
     "start_time": "2023-11-30T07:00:27.801168760Z"
    }
   },
   "id": "f1c6e76b118a9eca"
  },
  {
   "cell_type": "markdown",
   "source": [
    "## 六、开始模型训练\n",
    "------"
   ],
   "metadata": {
    "collapsed": false
   },
   "id": "8f89163a7be41e05"
  },
  {
   "cell_type": "code",
   "execution_count": 97,
   "outputs": [
    {
     "name": "stderr",
     "output_type": "stream",
     "text": [
      "epoch 499: 100%|██████████| 500/500 [06:05<00:00,  1.37it/s, loss=0.00105, progress=99.24%, val_acc=96.35%] \n"
     ]
    }
   ],
   "source": [
    "cut_point = int(len(documents) * 0.8)\n",
    "\n",
    "device = torch.device('cuda') if torch.cuda.is_available() else torch.device('cpu')\n",
    "\n",
    "train_set = DocumentDataset(documents[:cut_point], labels[:cut_point], seq_len=100)\n",
    "val_set = DocumentDataset(documents[cut_point:], labels[cut_point:], seq_len=100)\n",
    "\n",
    "model = LSTM(embed_dim, 64, num_classes, num_layers=2)\n",
    "model.to(device)\n",
    "\n",
    "train_loader = DataLoader(train_set, batch_size=64)\n",
    "val_loader = DataLoader(val_set, batch_size=64)\n",
    "\n",
    "optimizer = torch.optim.Adam(model.parameters(), lr=1e-3)\n",
    "\n",
    "epochs = 500\n",
    "\n",
    "losses = []\n",
    "val_accuracies = []\n",
    "\n",
    "p_bar = tqdm(range(epochs))\n",
    "val_accuracy = 0.\n",
    "best_acc = 0.\n",
    "\n",
    "for epoch in p_bar:\n",
    "    running_loss = 0.\n",
    "    correct = 0\n",
    "    total = 0\n",
    "    \n",
    "    for i, (x, y) in enumerate(train_loader):\n",
    "        x = x.to(device)\n",
    "        y = y.to(device)\n",
    "        y_pred = model(x)\n",
    "        optimizer.zero_grad()\n",
    "        loss = F.cross_entropy(y_pred, y)\n",
    "        running_loss += loss.item()\n",
    "        loss.backward()\n",
    "        optimizer.step()\n",
    "        p_bar.set_postfix(loss=running_loss/(i+1), progress=f\"{i/len(train_loader)*100:.2f}%\", val_acc=f\"{val_accuracy*100:.2f}%\", best_acc=best_acc)\n",
    "        p_bar.set_description(f\"epoch {epoch}\")\n",
    "        \n",
    "    losses.append(running_loss)\n",
    "        \n",
    "    for i, (x, y) in enumerate(val_loader):\n",
    "        x = x.to(device)\n",
    "        y = y.to(device)\n",
    "        with torch.no_grad():\n",
    "            y_pred = model(x)\n",
    "            total += x.shape[0]\n",
    "            correct += (y_pred.max(dim=1)[1] == y).sum().item()\n",
    "            \n",
    "    val_accuracy = accuracy = correct / total\n",
    "    val_accuracies.append(accuracy)\n",
    "    if val_accuracy > best_acc:\n",
    "        best_acc = val_accuracy\n",
    "    \n",
    "torch.save(model.state_dict(), f'model_{model.name}_state_dict.pt')\n",
    "    "
   ],
   "metadata": {
    "collapsed": false,
    "ExecuteTime": {
     "end_time": "2023-11-30T07:06:33.765313459Z",
     "start_time": "2023-11-30T07:00:27.858067770Z"
    }
   },
   "id": "fddbed81ae1044b7"
  },
  {
   "cell_type": "markdown",
   "source": [
    "## 七、可视化训练过程\n",
    "------"
   ],
   "metadata": {
    "collapsed": false
   },
   "id": "ec4b3f3da560109e"
  },
  {
   "cell_type": "code",
   "execution_count": 98,
   "outputs": [
    {
     "data": {
      "text/plain": "<Figure size 1200x500 with 2 Axes>",
      "image/png": "[encoded data removed]"
     },
     "metadata": {},
     "output_type": "display_data"
    }
   ],
   "source": [
    "plt.figure(figsize=(12, 5))\n",
    "\n",
    "# 绘制损失\n",
    "plt.subplot(1, 2, 1)\n",
    "plt.plot(losses, label='Training Loss')\n",
    "plt.title('Training Loss')\n",
    "plt.xlabel('Epoch')\n",
    "plt.ylabel('Loss')\n",
    "plt.legend()\n",
    "\n",
    "# 绘制验证准确率\n",
    "plt.subplot(1, 2, 2)\n",
    "plt.plot(val_accuracies, label='Validation Accuracy')\n",
    "plt.title('Validation Accuracy')\n",
    "plt.xlabel('Epoch')\n",
    "plt.ylabel('Accuracy')\n",
    "plt.legend()\n",
    "\n",
    "plt.tight_layout()\n",
    "plt.show()"
   ],
   "metadata": {
    "collapsed": false,
    "ExecuteTime": {
     "end_time": "2023-11-30T07:06:34.002518216Z",
     "start_time": "2023-11-30T07:06:33.765110709Z"
    }
   },
   "id": "26cb99d48e1df790"
  },
  {
   "cell_type": "code",
   "execution_count": 98,
   "outputs": [],
   "source": [
    "print('the end...')"
   ],
   "metadata": {
    "collapsed": false,
    "ExecuteTime": {
     "end_time": "2023-11-30T07:06:34.006923761Z",
     "start_time": "2023-11-30T07:06:34.002967276Z"
    }
   },
   "id": "927e59cce4c1f309"
  }
 ],
 "metadata": {
  "kernelspec": {
   "display_name": "Python 3",
   "language": "python",
   "name": "python3"
  },
  "language_info": {
   "codemirror_mode": {
    "name": "ipython",
    "version": 2
   },
   "file_extension": ".py",
   "mimetype": "text/x-python",
   "name": "python",
   "nbconvert_exporter": "python",
   "pygments_lexer": "ipython2",
   "version": "2.7.6"
  }
 },
 "nbformat": 4,
 "nbformat_minor": 5
}
