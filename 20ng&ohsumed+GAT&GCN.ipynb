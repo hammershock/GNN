{
 "cells": [
  {
   "cell_type": "code",
   "execution_count": 70,
   "id": "initial_id",
   "metadata": {
    "collapsed": true,
    "ExecuteTime": {
     "end_time": "2023-11-30T15:20:35.928623880Z",
     "start_time": "2023-11-30T15:20:35.912295438Z"
    }
   },
   "outputs": [],
   "source": [
    "import os\n",
    "import glob\n",
    "\n",
    "from torch_geometric.data import Data\n",
    "\n",
    "from sklearn.feature_extraction.text import TfidfVectorizer\n",
    "from sklearn.metrics.pairwise import cosine_similarity\n",
    "from sklearn.decomposition import PCA\n",
    "\n",
    "import numpy as np\n",
    "from tqdm import tqdm\n",
    "import torch\n",
    "import torch.nn.functional as F\n",
    "from torch_geometric.nn import GATConv, GCNConv\n",
    "from torch.nn import LogSoftmax, BatchNorm1d, Dropout, Module\n",
    "import torch.optim as optim\n",
    "from functools import partial\n",
    "\n",
    "import matplotlib.pyplot as plt"
   ]
  },
  {
   "cell_type": "markdown",
   "source": [],
   "metadata": {
    "collapsed": false
   },
   "id": "4f6861292c8c44af"
  },
  {
   "cell_type": "markdown",
   "source": [
    "## 一、读取数据"
   ],
   "metadata": {
    "collapsed": false
   },
   "id": "bda63ea9fadf2ec2"
  },
  {
   "cell_type": "code",
   "execution_count": 71,
   "outputs": [],
   "source": [
    "def read_data(root_dir, encoding, max_length=100):\n",
    "    documents = []\n",
    "    class_names = []\n",
    "\n",
    "    categories = [d for d in os.listdir(root_dir) if os.path.isdir(os.path.join(root_dir, d))]\n",
    "\n",
    "    for category in categories:\n",
    "        class_path = os.path.join(root_dir, category)\n",
    "        for i, file_path in enumerate(glob.glob(os.path.join(class_path, '*'))):\n",
    "            if i > max_length:\n",
    "                break\n",
    "            if os.path.isfile(file_path):\n",
    "                with open(file_path, 'r', encoding=encoding, errors='ignore') as file:\n",
    "                    content = file.read()\n",
    "                    documents.append(content)\n",
    "                    class_names.append(category)\n",
    "    return documents, class_names, categories\n",
    "\n",
    "read_ohsumed_data = partial(read_data, encoding='utf-8')\n",
    "read_20ng_data = partial(read_data, encoding='ascii')"
   ],
   "metadata": {
    "collapsed": false,
    "ExecuteTime": {
     "end_time": "2023-11-30T15:20:35.966152614Z",
     "start_time": "2023-11-30T15:20:35.917546467Z"
    }
   },
   "id": "5745f742cb49335f"
  },
  {
   "cell_type": "code",
   "execution_count": 72,
   "outputs": [
    {
     "name": "stdout",
     "output_type": "stream",
     "text": [
      "Haemophilus influenzae meningitis with prolonged hospital course.\n",
      " A retrospective evaluation of Haemophilus influenzae type b meningitis observed over a 2-year period documented 86 cases.\n",
      " Eight of these patients demonstrated an unusual clinical course characterized by persistent fever (duration: greater than 10 days), cerebrospinal fluid pleocytosis, profound meningeal enhancement on computed tomography, significant morbidity, and a prolonged hospital course.\n",
      " The mean age of these 8 patients was 6 months, in contrast to a mean age of 14 months for the entire group.\n",
      " Two patients had clinical evidence of relapse.\n",
      " Four of the 8 patients tested for latex particle agglutination in the cerebrospinal fluid remained positive after 10 days.\n",
      " All patients received antimicrobial therapy until they were afebrile for a minimum of 5 days.\n",
      " Subsequent neurologic examination revealed a persistent seizure disorder in 5 patients (62.5%), moderate-to-profound hearing loss in 2 (25%), mild ataxia in 1 (12.5%), and developmental delay with hydrocephalus which required shunting in 1 (12.5%).\n",
      " One patient had no sequelae.\n"
     ]
    }
   ],
   "source": [
    "root_dir = \"datasets/ohsumed\"\n",
    "# root_dir = \"datasets/ohsumed\"\n",
    "NUM_CLASSES = 23\n",
    "texts, labels, categories = read_ohsumed_data(root_dir, max_length=80)\n",
    "\n",
    "labels2idx = {category: idx for idx, category in enumerate(categories)}\n",
    "all_words = \" \".join(texts).split(' ')\n",
    "\n",
    "print(texts[0])"
   ],
   "metadata": {
    "collapsed": false,
    "ExecuteTime": {
     "end_time": "2023-11-30T15:20:36.057001866Z",
     "start_time": "2023-11-30T15:20:35.980682219Z"
    }
   },
   "id": "18805d404b09246e"
  },
  {
   "cell_type": "markdown",
   "source": [
    "## 二、文档向量化"
   ],
   "metadata": {
    "collapsed": false
   },
   "id": "1d5412c41fcd3f8b"
  },
  {
   "cell_type": "code",
   "execution_count": 73,
   "outputs": [
    {
     "name": "stderr",
     "output_type": "stream",
     "text": [
      "100%|██████████| 1863/1863 [00:00<00:00, 4117.40it/s]\n"
     ]
    },
    {
     "name": "stdout",
     "output_type": "stream",
     "text": [
      "CPU times: user 694 ms, sys: 52.1 ms, total: 746 ms\n",
      "Wall time: 744 ms\n"
     ]
    }
   ],
   "source": [
    "%%time\n",
    "vectorizer = TfidfVectorizer()\n",
    "\n",
    "tfidf_matrix = vectorizer.fit_transform(texts)\n",
    "\n",
    "cosine_sim = cosine_similarity(tfidf_matrix)\n",
    "\n",
    "similarity_threshold = 0.9\n",
    "\n",
    "edge_index = []\n",
    "for i in tqdm(range(len(texts))):\n",
    "    for j in range(len(texts)):\n",
    "        if i != j and cosine_sim[i, j] > similarity_threshold:\n",
    "            edge_index.append([i, j])\n",
    "\n",
    "edge_index = torch.tensor(edge_index, dtype=torch.long).t().contiguous()\n",
    "\n",
    "tfidf_features = tfidf_matrix.toarray()"
   ],
   "metadata": {
    "collapsed": false,
    "ExecuteTime": {
     "end_time": "2023-11-30T15:20:36.804444084Z",
     "start_time": "2023-11-30T15:20:36.058652134Z"
    }
   },
   "id": "da119933f938a46a"
  },
  {
   "cell_type": "markdown",
   "source": [
    "## 三、特征降维"
   ],
   "metadata": {
    "collapsed": false
   },
   "id": "5444765b6d0f72ad"
  },
  {
   "cell_type": "code",
   "execution_count": 74,
   "outputs": [
    {
     "name": "stdout",
     "output_type": "stream",
     "text": [
      "降维前15227->降维后1000\n",
      "CPU times: user 1min 43s, sys: 1min 15s, total: 2min 59s\n",
      "Wall time: 7.86 s\n"
     ]
    }
   ],
   "source": [
    "%%time\n",
    "# 使用PCA对特征进行降维，减小计算量\n",
    "n_components = 1000\n",
    "print(f\"降维前{tfidf_features.shape[1]}->降维后{n_components}\")\n",
    "pca = PCA(n_components=n_components)\n",
    "tfidf_features = pca.fit_transform(tfidf_features)"
   ],
   "metadata": {
    "collapsed": false,
    "ExecuteTime": {
     "end_time": "2023-11-30T15:20:44.679041504Z",
     "start_time": "2023-11-30T15:20:36.802817319Z"
    }
   },
   "id": "7b8b4c066c26fcf1"
  },
  {
   "cell_type": "markdown",
   "source": [
    "## 四、构建图数据"
   ],
   "metadata": {
    "collapsed": false
   },
   "id": "ff0a73e46854e01"
  },
  {
   "cell_type": "code",
   "execution_count": 75,
   "outputs": [],
   "source": [
    "# 转换为PyTorch张量\n",
    "x = torch.FloatTensor(tfidf_features)\n",
    "y = torch.LongTensor([labels2idx[label] for label in labels])\n",
    "\n",
    "# 创建PyTorch Geometric图数据\n",
    "data = Data(x=x, edge_index=edge_index, y=y)\n",
    "\n",
    "num_nodes = data.num_nodes\n",
    "train_val_ratio = 0.8\n",
    "cut_point = int(num_nodes * train_val_ratio)  # 例如，80%的节点用于训练\n",
    "\n",
    "train_mask = torch.zeros(num_nodes, dtype=torch.bool)\n",
    "val_mask = torch.zeros(num_nodes, dtype=torch.bool)\n",
    "\n",
    "indices = np.random.permutation(num_nodes)\n",
    "train_mask[indices[:cut_point]] = True\n",
    "val_mask[indices[cut_point:]] = True\n",
    "\n",
    "data.train_mask = train_mask\n",
    "data.val_mask = val_mask"
   ],
   "metadata": {
    "collapsed": false,
    "ExecuteTime": {
     "end_time": "2023-11-30T15:20:44.701938744Z",
     "start_time": "2023-11-30T15:20:44.679410763Z"
    }
   },
   "id": "6af9c59c1ae4268e"
  },
  {
   "cell_type": "markdown",
   "source": [
    "## 五、定义模型"
   ],
   "metadata": {
    "collapsed": false
   },
   "id": "68c867cb41eaff80"
  },
  {
   "cell_type": "code",
   "execution_count": 76,
   "outputs": [],
   "source": [
    "class GAT(Module):\n",
    "    name = 'GAT'\n",
    "    def __init__(self, input_dim, hidden_dim, out_dim, dropout_rate, num_heads=8):\n",
    "        super(GAT, self).__init__()\n",
    "        self.conv1 = GATConv(input_dim, hidden_dim, heads=num_heads, concat=True)\n",
    "        self.conv2 = GATConv(hidden_dim * num_heads, out_dim, heads=1, concat=False)\n",
    "        self.dropout = Dropout(dropout_rate)\n",
    "        self.bn1 = BatchNorm1d(hidden_dim * num_heads)\n",
    "        self.logsoftmax = LogSoftmax(dim=1)\n",
    "\n",
    "    def forward(self, data):\n",
    "        x, edge_index = data.x, data.edge_index\n",
    "\n",
    "        x = self.conv1(x, edge_index)\n",
    "        \n",
    "        x = x.view(-1, self.conv1.heads * self.conv1.out_channels)\n",
    "        x = self.bn1(x)\n",
    "        \n",
    "        x = F.elu(x)\n",
    "        x = self.dropout(x)\n",
    "\n",
    "        x = self.conv2(x, edge_index)\n",
    "        x = self.logsoftmax(x)\n",
    "        return x\n",
    "    \n",
    "\n",
    "class GCN(Module):\n",
    "    name = \"GCN\"\n",
    "    def __init__(self, input_dim, hidden_dim, out_dim, dropout_rate):\n",
    "        super(GCN, self).__init__()\n",
    "        self.conv1 = GCNConv(input_dim, hidden_dim)\n",
    "        self.conv2 = GCNConv(hidden_dim, out_dim)\n",
    "        self.dropout = Dropout(dropout_rate)\n",
    "        self.logsoftmax = LogSoftmax(dim=1)\n",
    "\n",
    "    def forward(self, data):\n",
    "        x, edge_index = data.x, data.edge_index\n",
    "\n",
    "        x = self.conv1(x, edge_index)\n",
    "        \n",
    "        x = F.elu(x)\n",
    "        x = self.dropout(x)\n",
    "\n",
    "        x = self.conv2(x, edge_index)\n",
    "        x = self.logsoftmax(x)\n",
    "        return x"
   ],
   "metadata": {
    "collapsed": false,
    "ExecuteTime": {
     "end_time": "2023-11-30T15:20:44.741039891Z",
     "start_time": "2023-11-30T15:20:44.699664868Z"
    }
   },
   "id": "9bdde86435a401ca"
  },
  {
   "cell_type": "markdown",
   "source": [
    "## 六、模型训练"
   ],
   "metadata": {
    "collapsed": false
   },
   "id": "2547a035f16037c2"
  },
  {
   "cell_type": "code",
   "execution_count": 82,
   "outputs": [
    {
     "name": "stderr",
     "output_type": "stream",
     "text": [
      "100%|██████████| 500/500 [00:11<00:00, 44.12it/s, epoch=499, loss=0.3172, val_acc=0.2976]"
     ]
    },
    {
     "name": "stdout",
     "output_type": "stream",
     "text": [
      "CPU times: user 3min, sys: 134 ms, total: 3min\n",
      "Wall time: 11.3 s\n"
     ]
    },
    {
     "name": "stderr",
     "output_type": "stream",
     "text": [
      "\n"
     ]
    }
   ],
   "source": [
    "%%time\n",
    "NUM_EPOCHS = 500\n",
    "LR = 0.005\n",
    "\n",
    "# 创建模型实例\n",
    "# model = GCN(input_dim=data.x.shape[1], hidden_dim=64, out_dim=NUM_CLASSES, dropout_rate=0.6)\n",
    "model = GAT(input_dim=data.x.shape[1], hidden_dim=64, out_dim=NUM_CLASSES, dropout_rate=0.6)\n",
    "optimizer = optim.Adam(model.parameters(), lr=LR)\n",
    "\n",
    "\n",
    "losses, val_accuracies = [], []\n",
    "# 训练循环\n",
    "p_bar = tqdm(range(NUM_EPOCHS))\n",
    "for epoch in p_bar:\n",
    "    model.train()\n",
    "    optimizer.zero_grad()\n",
    "    out = model(data)\n",
    "    loss = F.nll_loss(out[data.train_mask], data.y[data.train_mask])\n",
    "    loss.backward()\n",
    "    optimizer.step()\n",
    "    \n",
    "    model.eval()\n",
    "    with torch.no_grad():\n",
    "        out = model(data)\n",
    "        pred = out.argmax(dim=1)\n",
    "        correct = pred[data.val_mask] == data.y[data.val_mask]\n",
    "        val_acc = int(correct.sum()) / int(data.val_mask.sum())\n",
    "        \n",
    "    losses.append(loss.item())\n",
    "    val_accuracies.append(val_acc)\n",
    "    p_bar.set_postfix(epoch=epoch, loss=f\"{loss.item():.4f}\", val_acc=f\"{val_acc:.4f}\")\n",
    "    \n",
    "# 保存模型\n",
    "torch.save(model.state_dict(), f'{model.name}_model.pt')\n"
   ],
   "metadata": {
    "collapsed": false,
    "ExecuteTime": {
     "end_time": "2023-11-30T15:23:24.137820401Z",
     "start_time": "2023-11-30T15:23:12.792101795Z"
    }
   },
   "id": "da50a601b96f7d22"
  },
  {
   "cell_type": "markdown",
   "source": [
    "## 七、结果分析"
   ],
   "metadata": {
    "collapsed": false
   },
   "id": "a48c196245f2d404"
  },
  {
   "cell_type": "code",
   "execution_count": 83,
   "outputs": [
    {
     "data": {
      "text/plain": "<Figure size 1200x500 with 2 Axes>",
      "image/png": "[encoded data removed]"
     },
     "metadata": {},
     "output_type": "display_data"
    }
   ],
   "source": [
    "plt.figure(figsize=(12, 5))\n",
    "\n",
    "# 绘制损失\n",
    "plt.subplot(1, 2, 1)\n",
    "plt.plot(losses, label='Training Loss')\n",
    "plt.title('Training Loss')\n",
    "plt.xlabel('Epoch')\n",
    "plt.ylabel('Loss')\n",
    "plt.legend()\n",
    "\n",
    "# 绘制验证准确率\n",
    "plt.subplot(1, 2, 2)\n",
    "plt.plot(val_accuracies, label='Validation Accuracy')\n",
    "plt.title('Validation Accuracy')\n",
    "plt.xlabel('Epoch')\n",
    "plt.ylabel('Accuracy')\n",
    "plt.legend()\n",
    "\n",
    "plt.tight_layout()\n",
    "plt.show()"
   ],
   "metadata": {
    "collapsed": false,
    "ExecuteTime": {
     "end_time": "2023-11-30T15:23:26.939614764Z",
     "start_time": "2023-11-30T15:23:26.802633428Z"
    }
   },
   "id": "c7a4fcdeb1b13e1e"
  },
  {
   "cell_type": "code",
   "execution_count": null,
   "outputs": [],
   "source": [],
   "metadata": {
    "collapsed": false
   },
   "id": "8426bfe7ec33b8f8"
  }
 ],
 "metadata": {
  "kernelspec": {
   "display_name": "Python 3",
   "language": "python",
   "name": "python3"
  },
  "language_info": {
   "codemirror_mode": {
    "name": "ipython",
    "version": 2
   },
   "file_extension": ".py",
   "mimetype": "text/x-python",
   "name": "python",
   "nbconvert_exporter": "python",
   "pygments_lexer": "ipython2",
   "version": "2.7.6"
  }
 },
 "nbformat": 4,
 "nbformat_minor": 5
}
