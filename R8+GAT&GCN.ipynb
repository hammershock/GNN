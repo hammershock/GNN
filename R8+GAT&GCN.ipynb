{
 "cells": [
  {
   "cell_type": "markdown",
   "source": [
    "# 神经网络与深度学习实验四————GNN\n",
    "\n",
    "- 以R8或R52数据集为例，演示使用图注意力神经网络对文档进行分类\n",
    "- 将每一个文档视作图结点，整个数据集视作图\n",
    "- 使用词频-逆文档频率（TF-IDF）对文档进行嵌入\n",
    "- 使用PCA对文档嵌入进行降维（可选）\n",
    "- 训练GAT和GCN模型对文档进行分类并评估模型"
   ],
   "metadata": {
    "collapsed": false
   },
   "id": "c86effdb0432c4b7"
  },
  {
   "cell_type": "markdown",
   "source": [
    "## 一、首先配置环境\n",
    "------"
   ],
   "metadata": {
    "collapsed": false
   },
   "id": "37f423be5c4c56cf"
  },
  {
   "cell_type": "code",
   "execution_count": null,
   "outputs": [],
   "source": [
    "!pip install torch\n",
    "!pip install pandas\n",
    "!pip install matplotlib\n",
    "!pip install scikit-learn\n",
    "!pip install torch_geometric"
   ],
   "metadata": {
    "collapsed": false
   },
   "id": "a1c9d3456933df9f"
  },
  {
   "cell_type": "markdown",
   "source": [
    "## 二、导入相关模块\n",
    "------"
   ],
   "metadata": {
    "collapsed": false
   },
   "id": "2392e6124f358d18"
  },
  {
   "cell_type": "code",
   "execution_count": 1,
   "id": "initial_id",
   "metadata": {
    "collapsed": true,
    "ExecuteTime": {
     "end_time": "2023-11-27T01:43:08.596168410Z",
     "start_time": "2023-11-27T01:43:04.985350610Z"
    }
   },
   "outputs": [],
   "source": [
    "import pandas as pd\n",
    "from torch_geometric.data import Data\n",
    "\n",
    "from sklearn.feature_extraction.text import TfidfVectorizer\n",
    "from sklearn.metrics.pairwise import cosine_similarity\n",
    "from sklearn.decomposition import PCA\n",
    "\n",
    "import numpy as np\n",
    "\n",
    "import torch\n",
    "import torch.nn.functional as F\n",
    "from torch_geometric.nn import GATConv, GCNConv\n",
    "from torch.nn import LogSoftmax, BatchNorm1d, Dropout, Module\n",
    "import torch.optim as optim\n",
    "\n",
    "import matplotlib.pyplot as plt"
   ]
  },
  {
   "cell_type": "markdown",
   "source": [
    "## 三、读取r8数据集\n",
    "------"
   ],
   "metadata": {
    "collapsed": false
   },
   "id": "39a7432044220bae"
  },
  {
   "cell_type": "code",
   "execution_count": 2,
   "outputs": [
    {
     "name": "stdout",
     "output_type": "stream",
     "text": [
      "CPU times: user 82.2 ms, sys: 15.9 ms, total: 98.1 ms\n",
      "Wall time: 105 ms\n"
     ]
    }
   ],
   "source": [
    "%%time\n",
    "df = pd.read_csv('datasets/r8/r8.csv')\n",
    "\n",
    "texts = df['text'].tolist()  # R8数据集的文本列表\n",
    "labels = df['intent'].tolist()  # R8数据集的标签列表\n",
    "labels2idx = {intent: idx for idx, intent in enumerate(df['intent'].unique().tolist())}"
   ],
   "metadata": {
    "collapsed": false,
    "ExecuteTime": {
     "end_time": "2023-11-27T01:43:14.717835299Z",
     "start_time": "2023-11-27T01:43:14.612781418Z"
    }
   },
   "id": "969171bf43a13298"
  },
  {
   "cell_type": "markdown",
   "source": [
    "## 四、计算TF-IDF 词频-逆文档频率， 对文档进行嵌入\n",
    "------"
   ],
   "metadata": {
    "collapsed": false
   },
   "id": "1d78e20c623c9565"
  },
  {
   "cell_type": "code",
   "execution_count": 3,
   "outputs": [
    {
     "name": "stdout",
     "output_type": "stream",
     "text": [
      "CPU times: user 27.4 s, sys: 755 ms, total: 28.1 s\n",
      "Wall time: 28.2 s\n"
     ]
    }
   ],
   "source": [
    "%%time\n",
    "vectorizer = TfidfVectorizer()\n",
    "tfidf_matrix = vectorizer.fit_transform(texts)\n",
    "\n",
    "# 计算文档间的余弦相似度， 超过0.7阈值就构建一条边\n",
    "cosine_sim = cosine_similarity(tfidf_matrix)\n",
    "\n",
    "edge_index = []\n",
    "for i in range(len(texts)):\n",
    "    for j in range(len(texts)):\n",
    "        if i != j and cosine_sim[i, j] > 0.7:\n",
    "            edge_index.append([i, j])\n",
    "\n",
    "edge_index = torch.tensor(edge_index, dtype=torch.long).t().contiguous()\n",
    "\n",
    "tfidf_features = tfidf_matrix.toarray()"
   ],
   "metadata": {
    "collapsed": false,
    "ExecuteTime": {
     "end_time": "2023-11-27T01:43:56.427564787Z",
     "start_time": "2023-11-27T01:43:28.206123086Z"
    }
   },
   "id": "451cf478a01c26c3"
  },
  {
   "cell_type": "markdown",
   "source": [
    "## 五、进行特征降维（可选）\n",
    "------"
   ],
   "metadata": {
    "collapsed": false
   },
   "id": "a5ba0464b6257397"
  },
  {
   "cell_type": "code",
   "execution_count": 4,
   "outputs": [
    {
     "name": "stdout",
     "output_type": "stream",
     "text": [
      "降维前14575->降维后500\n",
      "CPU times: user 6min 10s, sys: 3min 12s, total: 9min 22s\n",
      "Wall time: 25 s\n"
     ]
    }
   ],
   "source": [
    "%%time\n",
    "# 使用PCA对特征进行降维，减小计算量\n",
    "n_components = 500\n",
    "print(f\"降维前{tfidf_features.shape[1]}->降维后{n_components}\")\n",
    "pca = PCA(n_components=n_components)\n",
    "tfidf_features = pca.fit_transform(tfidf_features)"
   ],
   "metadata": {
    "collapsed": false,
    "ExecuteTime": {
     "end_time": "2023-11-27T01:44:53.440785153Z",
     "start_time": "2023-11-27T01:44:28.441702472Z"
    }
   },
   "id": "88440b725e1b952d"
  },
  {
   "cell_type": "markdown",
   "source": [
    "## 六、构建torch_geometric图数据\n",
    "------"
   ],
   "metadata": {
    "collapsed": false
   },
   "id": "aa358de43140dcca"
  },
  {
   "cell_type": "code",
   "execution_count": 5,
   "outputs": [
    {
     "name": "stdout",
     "output_type": "stream",
     "text": [
      "num nodes: 10421, train size: 8336, val size: 2085\n"
     ]
    }
   ],
   "source": [
    "# 转换为PyTorch张量\n",
    "x = torch.FloatTensor(tfidf_features)\n",
    "y = torch.LongTensor([labels2idx[label] for label in labels])\n",
    "\n",
    "# 创建PyTorch Geometric图数据\n",
    "data = Data(x=x, edge_index=edge_index, y=y)\n",
    "\n",
    "# 假设data是PyTorch Geometric的图数据，包含特征x和标签y\n",
    "# 假设num_nodes是图中节点的总数\n",
    "num_nodes = data.num_nodes\n",
    "\n",
    "# 创建掩码\n",
    "indices = np.random.permutation(num_nodes)\n",
    "train_size = int(num_nodes * 0.8)  # 例如，80%的节点用于训练\n",
    "print(f\"num nodes: {num_nodes}, train size: {train_size}, val size: {num_nodes - train_size}\")\n",
    "train_mask = torch.zeros(num_nodes, dtype=torch.bool)\n",
    "val_mask = torch.zeros(num_nodes, dtype=torch.bool)\n",
    "\n",
    "train_mask[indices[:train_size]] = True\n",
    "val_mask[indices[train_size:]] = True\n",
    "\n",
    "data.train_mask = train_mask\n",
    "data.val_mask = val_mask"
   ],
   "metadata": {
    "collapsed": false,
    "ExecuteTime": {
     "end_time": "2023-11-27T01:45:01.467396800Z",
     "start_time": "2023-11-27T01:45:01.453061693Z"
    }
   },
   "id": "e33cad672638b412"
  },
  {
   "cell_type": "markdown",
   "source": [
    "## 七、构建模型\n",
    "------"
   ],
   "metadata": {
    "collapsed": false
   },
   "id": "e82453fc38942e83"
  },
  {
   "cell_type": "code",
   "execution_count": 6,
   "outputs": [],
   "source": [
    "class GAT(Module):\n",
    "    def __init__(self, in_feats, hidden_feats, out_feats, drop, num_heads=8):\n",
    "        super(GAT, self).__init__()\n",
    "        self.conv1 = GATConv(in_feats, hidden_feats, heads=num_heads, concat=True)\n",
    "        self.conv2 = GATConv(hidden_feats * num_heads, out_feats, heads=1, concat=False)\n",
    "        self.dropout = Dropout(drop)\n",
    "        self.bn1 = BatchNorm1d(hidden_feats * num_heads)\n",
    "        self.logsoftmax = LogSoftmax(dim=1)\n",
    "\n",
    "    def forward(self, data):\n",
    "        x, edge_index = data.x, data.edge_index\n",
    "\n",
    "        x = self.conv1(x, edge_index)\n",
    "        x = x.view(-1, self.conv1.heads * self.conv1.out_channels)\n",
    "        x = self.bn1(x)\n",
    "        x = F.elu(x)\n",
    "        x = self.dropout(x)\n",
    "\n",
    "        x = self.conv2(x, edge_index)\n",
    "        x = self.logsoftmax(x)\n",
    "        return x\n",
    "    \n",
    "\n",
    "class GCN(Module):\n",
    "    def __init__(self, in_feats, hidden_feats, out_feats, drop):\n",
    "        super(GCN, self).__init__()\n",
    "        self.conv1 = GCNConv(in_feats, hidden_feats)\n",
    "        self.conv2 = GCNConv(hidden_feats, out_feats)\n",
    "        self.dropout = Dropout(drop)\n",
    "        self.logsoftmax = LogSoftmax(dim=1)\n",
    "\n",
    "    def forward(self, data):\n",
    "        x, edge_index = data.x, data.edge_index\n",
    "\n",
    "        x = self.conv1(x, edge_index)\n",
    "        x = F.relu(x)\n",
    "        x = self.dropout(x)\n",
    "\n",
    "        x = self.conv2(x, edge_index)\n",
    "        x = self.logsoftmax(x)\n",
    "        return x\n"
   ],
   "metadata": {
    "collapsed": false,
    "ExecuteTime": {
     "end_time": "2023-11-27T01:45:11.408437106Z",
     "start_time": "2023-11-27T01:45:11.367799458Z"
    }
   },
   "id": "7fe3bd4da2f5e3b3"
  },
  {
   "cell_type": "markdown",
   "source": [
    "## 八、进行模型训练\n",
    "------"
   ],
   "metadata": {
    "collapsed": false
   },
   "id": "9efb5c4c877154c8"
  },
  {
   "cell_type": "code",
   "execution_count": 7,
   "outputs": [
    {
     "name": "stdout",
     "output_type": "stream",
     "text": [
      "Epoch: 0, Loss: 3.1168, Val Acc: 0.7482\n",
      "Epoch: 1, Loss: 1.3213, Val Acc: 0.8077\n",
      "Epoch: 2, Loss: 0.5056, Val Acc: 0.8240\n",
      "Epoch: 3, Loss: 0.2270, Val Acc: 0.8317\n",
      "Epoch: 4, Loss: 0.1255, Val Acc: 0.8326\n",
      "Epoch: 5, Loss: 0.0923, Val Acc: 0.8365\n",
      "Epoch: 6, Loss: 0.0691, Val Acc: 0.8408\n",
      "Epoch: 7, Loss: 0.0531, Val Acc: 0.8475\n",
      "Epoch: 8, Loss: 0.0464, Val Acc: 0.8528\n",
      "Epoch: 9, Loss: 0.0404, Val Acc: 0.8638\n",
      "Epoch: 10, Loss: 0.0366, Val Acc: 0.8724\n",
      "Epoch: 11, Loss: 0.0305, Val Acc: 0.8849\n",
      "Epoch: 12, Loss: 0.0257, Val Acc: 0.8954\n",
      "Epoch: 13, Loss: 0.0241, Val Acc: 0.9074\n",
      "Epoch: 14, Loss: 0.0232, Val Acc: 0.9170\n",
      "Epoch: 15, Loss: 0.0211, Val Acc: 0.9266\n",
      "Epoch: 16, Loss: 0.0186, Val Acc: 0.9372\n",
      "Epoch: 17, Loss: 0.0173, Val Acc: 0.9415\n",
      "Epoch: 18, Loss: 0.0170, Val Acc: 0.9463\n",
      "Epoch: 19, Loss: 0.0153, Val Acc: 0.9516\n",
      "Epoch: 20, Loss: 0.0166, Val Acc: 0.9573\n",
      "Epoch: 21, Loss: 0.0132, Val Acc: 0.9592\n",
      "Epoch: 22, Loss: 0.0141, Val Acc: 0.9616\n",
      "Epoch: 23, Loss: 0.0129, Val Acc: 0.9650\n",
      "Epoch: 24, Loss: 0.0117, Val Acc: 0.9664\n",
      "Epoch: 25, Loss: 0.0118, Val Acc: 0.9693\n",
      "Epoch: 26, Loss: 0.0099, Val Acc: 0.9722\n",
      "Epoch: 27, Loss: 0.0113, Val Acc: 0.9755\n",
      "Epoch: 28, Loss: 0.0107, Val Acc: 0.9770\n",
      "Epoch: 29, Loss: 0.0098, Val Acc: 0.9789\n",
      "CPU times: user 1min 24s, sys: 16.5 s, total: 1min 40s\n",
      "Wall time: 6.35 s\n"
     ]
    }
   ],
   "source": [
    "%%time\n",
    "NUM_CLASSES = 8\n",
    "NUM_EPOCHS = 30\n",
    "LR = 0.005\n",
    "\n",
    "# 创建模型实例\n",
    "model = GAT(in_feats=data.x.shape[1], hidden_feats=64, out_feats=NUM_CLASSES, drop=0.6)\n",
    "optimizer = optim.Adam(model.parameters(), lr=LR)\n",
    "\n",
    "\n",
    "# 训练函数\n",
    "def train():\n",
    "    model.train()\n",
    "    optimizer.zero_grad()\n",
    "    out = model(data)\n",
    "    loss = F.nll_loss(out[data.train_mask], data.y[data.train_mask])\n",
    "    loss.backward()\n",
    "    optimizer.step()\n",
    "    return loss.item()\n",
    "\n",
    "\n",
    "# 验证函数\n",
    "def validate():\n",
    "    model.eval()\n",
    "    with torch.no_grad():\n",
    "        out = model(data)\n",
    "        pred = out.argmax(dim=1)\n",
    "        correct = pred[data.val_mask] == data.y[data.val_mask]\n",
    "        acc = int(correct.sum()) / int(data.val_mask.sum())\n",
    "    return acc\n",
    "\n",
    "losses, val_accuracies = [], []\n",
    "# 训练循环\n",
    "for epoch in range(NUM_EPOCHS):\n",
    "    loss = train()\n",
    "    val_acc = validate()\n",
    "    losses.append(loss)\n",
    "    val_accuracies.append(val_acc)\n",
    "    print(f'Epoch: {epoch}, Loss: {loss:.4f}, Val Acc: {val_acc:.4f}')\n",
    "    \n",
    "# 保存模型\n",
    "torch.save(model.state_dict(), 'model_state_dict.pt')\n"
   ],
   "metadata": {
    "collapsed": false,
    "ExecuteTime": {
     "end_time": "2023-11-27T01:45:21.970717427Z",
     "start_time": "2023-11-27T01:45:15.608595987Z"
    }
   },
   "id": "55404234dea338aa"
  },
  {
   "cell_type": "markdown",
   "source": [
    "## 九、实验结果分析\n",
    "------"
   ],
   "metadata": {
    "collapsed": false
   },
   "id": "3526367f98836758"
  },
  {
   "cell_type": "code",
   "execution_count": 8,
   "outputs": [
    {
     "data": {
      "text/plain": "<Figure size 1200x500 with 2 Axes>",
      "image/png": "[encoded data removed]"
     },
     "metadata": {},
     "output_type": "display_data"
    }
   ],
   "source": [
    "plt.figure(figsize=(12, 5))\n",
    "\n",
    "# 绘制损失\n",
    "plt.subplot(1, 2, 1)\n",
    "plt.plot(losses, label='Training Loss')\n",
    "plt.title('Training Loss')\n",
    "plt.xlabel('Epoch')\n",
    "plt.ylabel('Loss')\n",
    "plt.legend()\n",
    "\n",
    "# 绘制验证准确率\n",
    "plt.subplot(1, 2, 2)\n",
    "plt.plot(val_accuracies, label='Validation Accuracy')\n",
    "plt.title('Validation Accuracy')\n",
    "plt.xlabel('Epoch')\n",
    "plt.ylabel('Accuracy')\n",
    "plt.legend()\n",
    "\n",
    "plt.tight_layout()\n",
    "plt.show()"
   ],
   "metadata": {
    "collapsed": false,
    "ExecuteTime": {
     "end_time": "2023-11-27T01:45:28.410224672Z",
     "start_time": "2023-11-27T01:45:27.958726306Z"
    }
   },
   "id": "3eae7bcf5085ef60"
  },
  {
   "cell_type": "markdown",
   "source": [
    "GAT与GCN的比较：\n",
    "GAT: 使用注意力机制来赋予不同邻居不同的重要性。这使得GAT能够更加灵活地捕捉节点间的复杂关系。计算更为复杂，处理不规则图上更具适应性。\n",
    "GCN: 没有注意力机制。它使用简化的卷积操作，其中所有邻居对中心节点的贡献均等。计算相较简单，适合处理规则图。"
   ],
   "metadata": {
    "collapsed": false
   },
   "id": "ea2af68e99603a83"
  },
  {
   "cell_type": "markdown",
   "source": [
    "#### created by 2021213368张瀚墨, 2023/11/27"
   ],
   "metadata": {
    "collapsed": false
   },
   "id": "5f29043e549865bd"
  },
  {
   "cell_type": "code",
   "execution_count": null,
   "outputs": [],
   "source": [],
   "metadata": {
    "collapsed": false
   },
   "id": "9fd5dc790da32d51"
  }
 ],
 "metadata": {
  "kernelspec": {
   "display_name": "Python 3",
   "language": "python",
   "name": "python3"
  },
  "language_info": {
   "codemirror_mode": {
    "name": "ipython",
    "version": 2
   },
   "file_extension": ".py",
   "mimetype": "text/x-python",
   "name": "python",
   "nbconvert_exporter": "python",
   "pygments_lexer": "ipython2",
   "version": "2.7.6"
  }
 },
 "nbformat": 4,
 "nbformat_minor": 5
}
