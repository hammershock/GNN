{
 "cells": [
  {
   "cell_type": "markdown",
   "source": [
    "# 神经网络与深度学习实验四————GNN\n",
    "\n",
    "- 以R8或R52数据集为例，演示使用图注意力神经网络对文档进行分类\n",
    "- 将每一个文档视作图结点，整个数据集视作图\n",
    "- 使用词频-逆文档频率（TF-IDF）对文档进行嵌入\n",
    "- 使用PCA对文档嵌入进行降维（可选）\n",
    "- 训练GAT和GCN模型对文档进行分类并评估模型"
   ],
   "metadata": {
    "collapsed": false
   },
   "id": "c86effdb0432c4b7"
  },
  {
   "cell_type": "markdown",
   "source": [
    "## 一、首先配置环境\n",
    "------"
   ],
   "metadata": {
    "collapsed": false
   },
   "id": "37f423be5c4c56cf"
  },
  {
   "cell_type": "code",
   "execution_count": 1,
   "outputs": [
    {
     "name": "stdout",
     "output_type": "stream",
     "text": [
      "Requirement already satisfied: torch in ./venv/lib/python3.11/site-packages (2.1.1)\r\n",
      "Requirement already satisfied: filelock in ./venv/lib/python3.11/site-packages (from torch) (3.13.1)\r\n",
      "Requirement already satisfied: typing-extensions in ./venv/lib/python3.11/site-packages (from torch) (4.8.0)\r\n",
      "Requirement already satisfied: sympy in ./venv/lib/python3.11/site-packages (from torch) (1.12)\r\n",
      "Requirement already satisfied: networkx in ./venv/lib/python3.11/site-packages (from torch) (3.2.1)\r\n",
      "Requirement already satisfied: jinja2 in ./venv/lib/python3.11/site-packages (from torch) (3.1.2)\r\n",
      "Requirement already satisfied: fsspec in ./venv/lib/python3.11/site-packages (from torch) (2023.10.0)\r\n",
      "Requirement already satisfied: nvidia-cuda-nvrtc-cu12==12.1.105 in ./venv/lib/python3.11/site-packages (from torch) (12.1.105)\r\n",
      "Requirement already satisfied: nvidia-cuda-runtime-cu12==12.1.105 in ./venv/lib/python3.11/site-packages (from torch) (12.1.105)\r\n",
      "Requirement already satisfied: nvidia-cuda-cupti-cu12==12.1.105 in ./venv/lib/python3.11/site-packages (from torch) (12.1.105)\r\n",
      "Requirement already satisfied: nvidia-cudnn-cu12==8.9.2.26 in ./venv/lib/python3.11/site-packages (from torch) (8.9.2.26)\r\n",
      "Requirement already satisfied: nvidia-cublas-cu12==12.1.3.1 in ./venv/lib/python3.11/site-packages (from torch) (12.1.3.1)\r\n",
      "Requirement already satisfied: nvidia-cufft-cu12==11.0.2.54 in ./venv/lib/python3.11/site-packages (from torch) (11.0.2.54)\r\n",
      "Requirement already satisfied: nvidia-curand-cu12==10.3.2.106 in ./venv/lib/python3.11/site-packages (from torch) (10.3.2.106)\r\n",
      "Requirement already satisfied: nvidia-cusolver-cu12==11.4.5.107 in ./venv/lib/python3.11/site-packages (from torch) (11.4.5.107)\r\n",
      "Requirement already satisfied: nvidia-cusparse-cu12==12.1.0.106 in ./venv/lib/python3.11/site-packages (from torch) (12.1.0.106)\r\n",
      "Requirement already satisfied: nvidia-nccl-cu12==2.18.1 in ./venv/lib/python3.11/site-packages (from torch) (2.18.1)\r\n",
      "Requirement already satisfied: nvidia-nvtx-cu12==12.1.105 in ./venv/lib/python3.11/site-packages (from torch) (12.1.105)\r\n",
      "Requirement already satisfied: triton==2.1.0 in ./venv/lib/python3.11/site-packages (from torch) (2.1.0)\r\n",
      "Requirement already satisfied: nvidia-nvjitlink-cu12 in ./venv/lib/python3.11/site-packages (from nvidia-cusolver-cu12==11.4.5.107->torch) (12.3.101)\r\n",
      "Requirement already satisfied: MarkupSafe>=2.0 in ./venv/lib/python3.11/site-packages (from jinja2->torch) (2.1.3)\r\n",
      "Requirement already satisfied: mpmath>=0.19 in ./venv/lib/python3.11/site-packages (from sympy->torch) (1.3.0)\r\n",
      "Requirement already satisfied: pandas in ./venv/lib/python3.11/site-packages (2.1.3)\r\n",
      "Requirement already satisfied: numpy<2,>=1.23.2 in ./venv/lib/python3.11/site-packages (from pandas) (1.26.2)\r\n",
      "Requirement already satisfied: python-dateutil>=2.8.2 in ./venv/lib/python3.11/site-packages (from pandas) (2.8.2)\r\n",
      "Requirement already satisfied: pytz>=2020.1 in ./venv/lib/python3.11/site-packages (from pandas) (2023.3.post1)\r\n",
      "Requirement already satisfied: tzdata>=2022.1 in ./venv/lib/python3.11/site-packages (from pandas) (2023.3)\r\n",
      "Requirement already satisfied: six>=1.5 in ./venv/lib/python3.11/site-packages (from python-dateutil>=2.8.2->pandas) (1.16.0)\r\n",
      "Requirement already satisfied: matplotlib in ./venv/lib/python3.11/site-packages (3.8.2)\r\n",
      "Requirement already satisfied: contourpy>=1.0.1 in ./venv/lib/python3.11/site-packages (from matplotlib) (1.2.0)\r\n",
      "Requirement already satisfied: cycler>=0.10 in ./venv/lib/python3.11/site-packages (from matplotlib) (0.12.1)\r\n",
      "Requirement already satisfied: fonttools>=4.22.0 in ./venv/lib/python3.11/site-packages (from matplotlib) (4.45.1)\r\n",
      "Requirement already satisfied: kiwisolver>=1.3.1 in ./venv/lib/python3.11/site-packages (from matplotlib) (1.4.5)\r\n",
      "Requirement already satisfied: numpy<2,>=1.21 in ./venv/lib/python3.11/site-packages (from matplotlib) (1.26.2)\r\n",
      "Requirement already satisfied: packaging>=20.0 in ./venv/lib/python3.11/site-packages (from matplotlib) (23.2)\r\n",
      "Requirement already satisfied: pillow>=8 in ./venv/lib/python3.11/site-packages (from matplotlib) (10.1.0)\r\n",
      "Requirement already satisfied: pyparsing>=2.3.1 in ./venv/lib/python3.11/site-packages (from matplotlib) (3.1.1)\r\n",
      "Requirement already satisfied: python-dateutil>=2.7 in ./venv/lib/python3.11/site-packages (from matplotlib) (2.8.2)\r\n",
      "Requirement already satisfied: six>=1.5 in ./venv/lib/python3.11/site-packages (from python-dateutil>=2.7->matplotlib) (1.16.0)\r\n",
      "Requirement already satisfied: scikit-learn in ./venv/lib/python3.11/site-packages (1.3.2)\r\n",
      "Requirement already satisfied: numpy<2.0,>=1.17.3 in ./venv/lib/python3.11/site-packages (from scikit-learn) (1.26.2)\r\n",
      "Requirement already satisfied: scipy>=1.5.0 in ./venv/lib/python3.11/site-packages (from scikit-learn) (1.11.4)\r\n",
      "Requirement already satisfied: joblib>=1.1.1 in ./venv/lib/python3.11/site-packages (from scikit-learn) (1.3.2)\r\n",
      "Requirement already satisfied: threadpoolctl>=2.0.0 in ./venv/lib/python3.11/site-packages (from scikit-learn) (3.2.0)\r\n",
      "Requirement already satisfied: torch_geometric in ./venv/lib/python3.11/site-packages (2.4.0)\r\n",
      "Requirement already satisfied: tqdm in ./venv/lib/python3.11/site-packages (from torch_geometric) (4.66.1)\r\n",
      "Requirement already satisfied: numpy in ./venv/lib/python3.11/site-packages (from torch_geometric) (1.26.2)\r\n",
      "Requirement already satisfied: scipy in ./venv/lib/python3.11/site-packages (from torch_geometric) (1.11.4)\r\n",
      "Requirement already satisfied: jinja2 in ./venv/lib/python3.11/site-packages (from torch_geometric) (3.1.2)\r\n",
      "Requirement already satisfied: requests in ./venv/lib/python3.11/site-packages (from torch_geometric) (2.31.0)\r\n",
      "Requirement already satisfied: pyparsing in ./venv/lib/python3.11/site-packages (from torch_geometric) (3.1.1)\r\n",
      "Requirement already satisfied: scikit-learn in ./venv/lib/python3.11/site-packages (from torch_geometric) (1.3.2)\r\n",
      "Requirement already satisfied: psutil>=5.8.0 in ./venv/lib/python3.11/site-packages (from torch_geometric) (5.9.6)\r\n",
      "Requirement already satisfied: MarkupSafe>=2.0 in ./venv/lib/python3.11/site-packages (from jinja2->torch_geometric) (2.1.3)\r\n",
      "Requirement already satisfied: charset-normalizer<4,>=2 in ./venv/lib/python3.11/site-packages (from requests->torch_geometric) (3.3.2)\r\n",
      "Requirement already satisfied: idna<4,>=2.5 in ./venv/lib/python3.11/site-packages (from requests->torch_geometric) (3.6)\r\n",
      "Requirement already satisfied: urllib3<3,>=1.21.1 in ./venv/lib/python3.11/site-packages (from requests->torch_geometric) (2.1.0)\r\n",
      "Requirement already satisfied: certifi>=2017.4.17 in ./venv/lib/python3.11/site-packages (from requests->torch_geometric) (2023.11.17)\r\n",
      "Requirement already satisfied: joblib>=1.1.1 in ./venv/lib/python3.11/site-packages (from scikit-learn->torch_geometric) (1.3.2)\r\n",
      "Requirement already satisfied: threadpoolctl>=2.0.0 in ./venv/lib/python3.11/site-packages (from scikit-learn->torch_geometric) (3.2.0)\r\n"
     ]
    }
   ],
   "source": [
    "!pip install torch\n",
    "!pip install pandas\n",
    "!pip install matplotlib\n",
    "!pip install scikit-learn\n",
    "!pip install torch_geometric"
   ],
   "metadata": {
    "collapsed": false,
    "ExecuteTime": {
     "end_time": "2023-11-30T08:18:52.712634950Z",
     "start_time": "2023-11-30T08:18:47.357921132Z"
    }
   },
   "id": "a1c9d3456933df9f"
  },
  {
   "cell_type": "markdown",
   "source": [
    "## 二、导入相关模块\n",
    "------"
   ],
   "metadata": {
    "collapsed": false
   },
   "id": "2392e6124f358d18"
  },
  {
   "cell_type": "code",
   "execution_count": 2,
   "id": "initial_id",
   "metadata": {
    "collapsed": true,
    "ExecuteTime": {
     "end_time": "2023-11-30T08:18:54.771243855Z",
     "start_time": "2023-11-30T08:18:52.718563361Z"
    }
   },
   "outputs": [],
   "source": [
    "import pandas as pd\n",
    "from torch_geometric.data import Data\n",
    "\n",
    "from sklearn.feature_extraction.text import TfidfVectorizer\n",
    "from sklearn.metrics.pairwise import cosine_similarity\n",
    "from sklearn.decomposition import PCA\n",
    "\n",
    "import numpy as np\n",
    "import networkx as nx\n",
    "\n",
    "import torch\n",
    "import torch.nn.functional as F\n",
    "from torch_geometric.nn import GATConv, GCNConv\n",
    "from torch.nn import LogSoftmax, BatchNorm1d, Dropout, Module\n",
    "import torch.optim as optim\n",
    "\n",
    "import matplotlib.pyplot as plt"
   ]
  },
  {
   "cell_type": "markdown",
   "source": [
    "## 三、读取r8数据集\n",
    "------"
   ],
   "metadata": {
    "collapsed": false
   },
   "id": "39a7432044220bae"
  },
  {
   "cell_type": "code",
   "execution_count": 3,
   "outputs": [
    {
     "name": "stdout",
     "output_type": "stream",
     "text": [
      "CPU times: user 36.7 ms, sys: 3.94 ms, total: 40.6 ms\n",
      "Wall time: 40.1 ms\n"
     ]
    }
   ],
   "source": [
    "%%time\n",
    "df = pd.read_csv('datasets/r8/r8.csv')\n",
    "\n",
    "texts = df['text'].tolist()  # R8数据集的文本列表\n",
    "labels = df['intent'].tolist()  # R8数据集的标签列表\n",
    "labels2idx = {intent: idx for idx, intent in enumerate(df['intent'].unique().tolist())}"
   ],
   "metadata": {
    "collapsed": false,
    "ExecuteTime": {
     "end_time": "2023-11-30T08:18:54.813678026Z",
     "start_time": "2023-11-30T08:18:54.770365028Z"
    }
   },
   "id": "969171bf43a13298"
  },
  {
   "cell_type": "markdown",
   "source": [
    "## 四、计算TF-IDF 词频-逆文档频率， 对文档进行嵌入\n",
    "------"
   ],
   "metadata": {
    "collapsed": false
   },
   "id": "1d78e20c623c9565"
  },
  {
   "cell_type": "code",
   "execution_count": 4,
   "outputs": [
    {
     "name": "stdout",
     "output_type": "stream",
     "text": [
      "CPU times: user 16.8 s, sys: 516 ms, total: 17.3 s\n",
      "Wall time: 17.3 s\n"
     ]
    }
   ],
   "source": [
    "%%time\n",
    "vectorizer = TfidfVectorizer()\n",
    "tfidf_matrix = vectorizer.fit_transform(texts)\n",
    "\n",
    "# 计算文档间的余弦相似度， 超过0.7阈值就构建一条边\n",
    "cosine_sim = cosine_similarity(tfidf_matrix)\n",
    "\n",
    "edge_index = []\n",
    "for i in range(len(texts)):\n",
    "    for j in range(len(texts)):\n",
    "        if i != j and cosine_sim[i, j] > 0.9:\n",
    "            edge_index.append([i, j])\n",
    "\n",
    "edge_index = torch.tensor(edge_index, dtype=torch.long).t().contiguous()\n",
    "\n",
    "tfidf_features = tfidf_matrix.toarray()"
   ],
   "metadata": {
    "collapsed": false,
    "ExecuteTime": {
     "end_time": "2023-11-30T08:19:12.131615112Z",
     "start_time": "2023-11-30T08:18:54.828004472Z"
    }
   },
   "id": "451cf478a01c26c3"
  },
  {
   "cell_type": "markdown",
   "source": [
    "## 五、可视化图结构 (可选)\n",
    "#### 图过于复杂可视化效果不好而且渲染时间非常长, 建议不要运行\n",
    "------"
   ],
   "metadata": {
    "collapsed": false
   },
   "id": "972440065b5d8c9d"
  },
  {
   "cell_type": "code",
   "execution_count": 5,
   "outputs": [],
   "source": [
    "# G = nx.Graph()\n",
    "# G.add_nodes_from(range(len(texts)))\n",
    "# for i, j in edge_index.t().numpy():\n",
    "#     G.add_edge(i, j)\n",
    "#     \n",
    "# plt.figure(figsize=(12, 12))\n",
    "# nx.draw(G, with_labels=True, node_color='lightblue', node_size=500, font_size=10, font_weight='bold')\n",
    "# plt.title(\"Document Similarity Graph\")\n",
    "# plt.show()"
   ],
   "metadata": {
    "collapsed": false,
    "ExecuteTime": {
     "end_time": "2023-11-30T08:19:12.131708632Z",
     "start_time": "2023-11-30T08:19:12.119737977Z"
    }
   },
   "id": "d32a80f4dd57601d"
  },
  {
   "cell_type": "markdown",
   "source": [
    "## 六、进行特征降维 (可选)\n",
    "#### 原始文档的特征维度等同于词汇表大小，这在大型数据集上是很大的，需要进行降维才能进一步处理，不过降维同时也需要很多时间，对于这个数据集不降维也可以\n",
    "------"
   ],
   "metadata": {
    "collapsed": false
   },
   "id": "a5ba0464b6257397"
  },
  {
   "cell_type": "code",
   "execution_count": 6,
   "outputs": [
    {
     "name": "stdout",
     "output_type": "stream",
     "text": [
      "降维前14575->降维后500\n",
      "CPU times: user 4min 20s, sys: 2min 38s, total: 6min 59s\n",
      "Wall time: 18.4 s\n"
     ]
    }
   ],
   "source": [
    "%%time\n",
    "# 使用PCA对特征进行降维，减小计算量\n",
    "n_components = 500\n",
    "print(f\"降维前{tfidf_features.shape[1]}->降维后{n_components}\")\n",
    "pca = PCA(n_components=n_components)\n",
    "tfidf_features = pca.fit_transform(tfidf_features)"
   ],
   "metadata": {
    "collapsed": false,
    "ExecuteTime": {
     "end_time": "2023-11-30T08:19:30.554739704Z",
     "start_time": "2023-11-30T08:19:12.121472210Z"
    }
   },
   "id": "88440b725e1b952d"
  },
  {
   "cell_type": "markdown",
   "source": [
    "## 七、构建torch_geometric图数据\n",
    "------"
   ],
   "metadata": {
    "collapsed": false
   },
   "id": "aa358de43140dcca"
  },
  {
   "cell_type": "code",
   "execution_count": 7,
   "outputs": [
    {
     "name": "stdout",
     "output_type": "stream",
     "text": [
      "num nodes: 10421, train size: 8336, val size: 2085\n"
     ]
    }
   ],
   "source": [
    "# 转换为PyTorch张量\n",
    "x = torch.FloatTensor(tfidf_features)\n",
    "y = torch.LongTensor([labels2idx[label] for label in labels])\n",
    "\n",
    "# 创建PyTorch Geometric图数据\n",
    "data = Data(x=x, edge_index=edge_index, y=y)\n",
    "\n",
    "# 假设data是PyTorch Geometric的图数据，包含特征x和标签y\n",
    "# 假设num_nodes是图中节点的总数\n",
    "num_nodes = data.num_nodes\n",
    "\n",
    "# 创建掩码\n",
    "indices = np.random.permutation(num_nodes)\n",
    "train_size = int(num_nodes * 0.8)  # 例如，80%的节点用于训练\n",
    "print(f\"num nodes: {num_nodes}, train size: {train_size}, val size: {num_nodes - train_size}\")\n",
    "train_mask = torch.zeros(num_nodes, dtype=torch.bool)\n",
    "val_mask = torch.zeros(num_nodes, dtype=torch.bool)\n",
    "\n",
    "train_mask[indices[:train_size]] = True\n",
    "val_mask[indices[train_size:]] = True\n",
    "\n",
    "data.train_mask = train_mask\n",
    "data.val_mask = val_mask"
   ],
   "metadata": {
    "collapsed": false,
    "ExecuteTime": {
     "end_time": "2023-11-30T08:19:30.554903033Z",
     "start_time": "2023-11-30T08:19:30.554670947Z"
    }
   },
   "id": "e33cad672638b412"
  },
  {
   "cell_type": "markdown",
   "source": [
    "## 八、构建模型\n",
    "#### 提供了GAT模型和GCN模型，API均保持一致，可以在后面尝试使用不同的模型\n",
    "------\n",
    "GAT与GCN的比较：\n",
    "- GAT: 使用注意力机制来赋予不同邻居不同的重要性。这使得GAT能够更加灵活地捕捉节点间的复杂关系。计算更为复杂，处理不规则图上更具适应性。\n",
    "- GCN: 没有注意力机制。它使用简化的卷积操作，其中所有邻居对中心节点的贡献均等。计算相较简单，适合处理规则图。"
   ],
   "metadata": {
    "collapsed": false
   },
   "id": "e82453fc38942e83"
  },
  {
   "cell_type": "code",
   "execution_count": 8,
   "outputs": [],
   "source": [
    "class GAT(Module):\n",
    "    name = 'GAT'\n",
    "    def __init__(self, in_feats, hidden_feats, out_feats, drop, num_heads=8):\n",
    "        super(GAT, self).__init__()\n",
    "        self.conv1 = GATConv(in_feats, hidden_feats, heads=num_heads, concat=True)\n",
    "        self.conv2 = GATConv(hidden_feats * num_heads, out_feats, heads=1, concat=False)\n",
    "        self.dropout = Dropout(drop)\n",
    "        self.bn1 = BatchNorm1d(hidden_feats * num_heads)\n",
    "        self.logsoftmax = LogSoftmax(dim=1)\n",
    "\n",
    "    def forward(self, data):\n",
    "        x, edge_index = data.x, data.edge_index\n",
    "\n",
    "        x = self.conv1(x, edge_index)\n",
    "        x = x.view(-1, self.conv1.heads * self.conv1.out_channels)\n",
    "        x = self.bn1(x)\n",
    "        x = F.elu(x)\n",
    "        x = self.dropout(x)\n",
    "\n",
    "        x = self.conv2(x, edge_index)\n",
    "        x = self.logsoftmax(x)\n",
    "        return x\n",
    "    \n",
    "\n",
    "class GCN(Module):\n",
    "    name = \"GCN\"\n",
    "    def __init__(self, in_feats, hidden_feats, out_feats, drop):\n",
    "        super(GCN, self).__init__()\n",
    "        self.conv1 = GCNConv(in_feats, hidden_feats)\n",
    "        self.conv2 = GCNConv(hidden_feats, out_feats)\n",
    "        self.dropout = Dropout(drop)\n",
    "        self.logsoftmax = LogSoftmax(dim=1)\n",
    "\n",
    "    def forward(self, data):\n",
    "        x, edge_index = data.x, data.edge_index\n",
    "\n",
    "        x = self.conv1(x, edge_index)\n",
    "        x = F.relu(x)\n",
    "        x = self.dropout(x)\n",
    "\n",
    "        x = self.conv2(x, edge_index)\n",
    "        x = self.logsoftmax(x)\n",
    "        return x\n"
   ],
   "metadata": {
    "collapsed": false,
    "ExecuteTime": {
     "end_time": "2023-11-30T08:19:30.555231608Z",
     "start_time": "2023-11-30T08:19:30.554797581Z"
    }
   },
   "id": "7fe3bd4da2f5e3b3"
  },
  {
   "cell_type": "markdown",
   "source": [
    "## 九、进行模型训练\n",
    "------"
   ],
   "metadata": {
    "collapsed": false
   },
   "id": "9efb5c4c877154c8"
  },
  {
   "cell_type": "code",
   "execution_count": 12,
   "outputs": [
    {
     "name": "stdout",
     "output_type": "stream",
     "text": [
      "Epoch: 0, Loss: 2.0863, Val Acc: 0.2676\n",
      "Epoch: 1, Loss: 2.0494, Val Acc: 0.5261\n",
      "Epoch: 2, Loss: 2.0136, Val Acc: 0.6144\n",
      "Epoch: 3, Loss: 1.9803, Val Acc: 0.6408\n",
      "Epoch: 4, Loss: 1.9454, Val Acc: 0.6523\n",
      "Epoch: 5, Loss: 1.9097, Val Acc: 0.6585\n",
      "Epoch: 6, Loss: 1.8730, Val Acc: 0.6662\n",
      "Epoch: 7, Loss: 1.8392, Val Acc: 0.6787\n",
      "Epoch: 8, Loss: 1.7999, Val Acc: 0.6859\n",
      "Epoch: 9, Loss: 1.7585, Val Acc: 0.6964\n",
      "Epoch: 10, Loss: 1.7182, Val Acc: 0.7050\n",
      "Epoch: 11, Loss: 1.6744, Val Acc: 0.7137\n",
      "Epoch: 12, Loss: 1.6302, Val Acc: 0.7213\n",
      "Epoch: 13, Loss: 1.5826, Val Acc: 0.7261\n",
      "Epoch: 14, Loss: 1.5359, Val Acc: 0.7343\n",
      "Epoch: 15, Loss: 1.4862, Val Acc: 0.7391\n",
      "Epoch: 16, Loss: 1.4360, Val Acc: 0.7482\n",
      "Epoch: 17, Loss: 1.3841, Val Acc: 0.7487\n",
      "Epoch: 18, Loss: 1.3362, Val Acc: 0.7540\n",
      "Epoch: 19, Loss: 1.2878, Val Acc: 0.7568\n",
      "Epoch: 20, Loss: 1.2377, Val Acc: 0.7602\n",
      "Epoch: 21, Loss: 1.1876, Val Acc: 0.7607\n",
      "Epoch: 22, Loss: 1.1395, Val Acc: 0.7612\n",
      "Epoch: 23, Loss: 1.0964, Val Acc: 0.7621\n",
      "Epoch: 24, Loss: 1.0526, Val Acc: 0.7626\n",
      "Epoch: 25, Loss: 1.0116, Val Acc: 0.7631\n",
      "Epoch: 26, Loss: 0.9715, Val Acc: 0.7635\n",
      "Epoch: 27, Loss: 0.9326, Val Acc: 0.7635\n",
      "Epoch: 28, Loss: 0.8931, Val Acc: 0.7655\n",
      "Epoch: 29, Loss: 0.8641, Val Acc: 0.7683\n",
      "Epoch: 30, Loss: 0.8286, Val Acc: 0.7698\n",
      "Epoch: 31, Loss: 0.7965, Val Acc: 0.7760\n",
      "Epoch: 32, Loss: 0.7690, Val Acc: 0.7799\n",
      "Epoch: 33, Loss: 0.7405, Val Acc: 0.7842\n",
      "Epoch: 34, Loss: 0.7146, Val Acc: 0.7899\n",
      "Epoch: 35, Loss: 0.6870, Val Acc: 0.7957\n",
      "Epoch: 36, Loss: 0.6651, Val Acc: 0.8034\n",
      "Epoch: 37, Loss: 0.6363, Val Acc: 0.8101\n",
      "Epoch: 38, Loss: 0.6139, Val Acc: 0.8264\n",
      "Epoch: 39, Loss: 0.5876, Val Acc: 0.8355\n",
      "Epoch: 40, Loss: 0.5652, Val Acc: 0.8441\n",
      "Epoch: 41, Loss: 0.5429, Val Acc: 0.8537\n",
      "Epoch: 42, Loss: 0.5265, Val Acc: 0.8662\n",
      "Epoch: 43, Loss: 0.5053, Val Acc: 0.8763\n",
      "Epoch: 44, Loss: 0.4811, Val Acc: 0.8906\n",
      "Epoch: 45, Loss: 0.4667, Val Acc: 0.9031\n",
      "Epoch: 46, Loss: 0.4432, Val Acc: 0.9103\n",
      "Epoch: 47, Loss: 0.4209, Val Acc: 0.9199\n",
      "Epoch: 48, Loss: 0.4088, Val Acc: 0.9295\n",
      "Epoch: 49, Loss: 0.3931, Val Acc: 0.9376\n",
      "Epoch: 50, Loss: 0.3749, Val Acc: 0.9434\n",
      "Epoch: 51, Loss: 0.3590, Val Acc: 0.9492\n",
      "Epoch: 52, Loss: 0.3484, Val Acc: 0.9520\n",
      "Epoch: 53, Loss: 0.3295, Val Acc: 0.9559\n",
      "Epoch: 54, Loss: 0.3243, Val Acc: 0.9588\n",
      "Epoch: 55, Loss: 0.3077, Val Acc: 0.9602\n",
      "Epoch: 56, Loss: 0.2975, Val Acc: 0.9616\n",
      "Epoch: 57, Loss: 0.2869, Val Acc: 0.9631\n",
      "Epoch: 58, Loss: 0.2710, Val Acc: 0.9659\n",
      "Epoch: 59, Loss: 0.2680, Val Acc: 0.9674\n",
      "Epoch: 60, Loss: 0.2566, Val Acc: 0.9679\n",
      "Epoch: 61, Loss: 0.2496, Val Acc: 0.9688\n",
      "Epoch: 62, Loss: 0.2422, Val Acc: 0.9693\n",
      "Epoch: 63, Loss: 0.2305, Val Acc: 0.9698\n",
      "Epoch: 64, Loss: 0.2233, Val Acc: 0.9707\n",
      "Epoch: 65, Loss: 0.2172, Val Acc: 0.9731\n",
      "Epoch: 66, Loss: 0.2092, Val Acc: 0.9736\n",
      "Epoch: 67, Loss: 0.2011, Val Acc: 0.9736\n",
      "Epoch: 68, Loss: 0.1994, Val Acc: 0.9746\n",
      "Epoch: 69, Loss: 0.1918, Val Acc: 0.9746\n",
      "Epoch: 70, Loss: 0.1832, Val Acc: 0.9746\n",
      "Epoch: 71, Loss: 0.1802, Val Acc: 0.9746\n",
      "Epoch: 72, Loss: 0.1768, Val Acc: 0.9755\n",
      "Epoch: 73, Loss: 0.1687, Val Acc: 0.9755\n",
      "Epoch: 74, Loss: 0.1682, Val Acc: 0.9755\n",
      "Epoch: 75, Loss: 0.1602, Val Acc: 0.9770\n",
      "Epoch: 76, Loss: 0.1574, Val Acc: 0.9770\n",
      "Epoch: 77, Loss: 0.1566, Val Acc: 0.9770\n",
      "Epoch: 78, Loss: 0.1475, Val Acc: 0.9770\n",
      "Epoch: 79, Loss: 0.1478, Val Acc: 0.9775\n",
      "Epoch: 80, Loss: 0.1434, Val Acc: 0.9775\n",
      "Epoch: 81, Loss: 0.1373, Val Acc: 0.9775\n",
      "Epoch: 82, Loss: 0.1330, Val Acc: 0.9779\n",
      "Epoch: 83, Loss: 0.1314, Val Acc: 0.9784\n",
      "Epoch: 84, Loss: 0.1286, Val Acc: 0.9789\n",
      "Epoch: 85, Loss: 0.1270, Val Acc: 0.9799\n",
      "Epoch: 86, Loss: 0.1234, Val Acc: 0.9799\n",
      "Epoch: 87, Loss: 0.1231, Val Acc: 0.9794\n",
      "Epoch: 88, Loss: 0.1216, Val Acc: 0.9794\n",
      "Epoch: 89, Loss: 0.1171, Val Acc: 0.9794\n",
      "Epoch: 90, Loss: 0.1176, Val Acc: 0.9794\n",
      "Epoch: 91, Loss: 0.1106, Val Acc: 0.9794\n",
      "Epoch: 92, Loss: 0.1116, Val Acc: 0.9799\n",
      "Epoch: 93, Loss: 0.1096, Val Acc: 0.9803\n",
      "Epoch: 94, Loss: 0.1067, Val Acc: 0.9799\n",
      "Epoch: 95, Loss: 0.1042, Val Acc: 0.9808\n",
      "Epoch: 96, Loss: 0.1038, Val Acc: 0.9808\n",
      "Epoch: 97, Loss: 0.0985, Val Acc: 0.9808\n",
      "Epoch: 98, Loss: 0.0988, Val Acc: 0.9823\n",
      "Epoch: 99, Loss: 0.0969, Val Acc: 0.9823\n",
      "CPU times: user 20.9 s, sys: 520 µs, total: 20.9 s\n",
      "Wall time: 1.32 s\n"
     ]
    }
   ],
   "source": [
    "%%time\n",
    "NUM_CLASSES = 8\n",
    "NUM_EPOCHS = 100\n",
    "LR = 0.005\n",
    "\n",
    "# 创建模型实例\n",
    "model = GCN(in_feats=data.x.shape[1], hidden_feats=64, out_feats=NUM_CLASSES, drop=0.6)\n",
    "# model = GAT(in_feats=data.x.shape[1], hidden_feats=64, out_feats=NUM_CLASSES, drop=0.6)\n",
    "optimizer = optim.Adam(model.parameters(), lr=LR)\n",
    "\n",
    "\n",
    "# 训练函数\n",
    "def train():\n",
    "    model.train()\n",
    "    optimizer.zero_grad()\n",
    "    out = model(data)\n",
    "    loss = F.nll_loss(out[data.train_mask], data.y[data.train_mask])\n",
    "    loss.backward()\n",
    "    optimizer.step()\n",
    "    return loss.item()\n",
    "\n",
    "\n",
    "# 验证函数\n",
    "def validate():\n",
    "    model.eval()\n",
    "    with torch.no_grad():\n",
    "        out = model(data)\n",
    "        pred = out.argmax(dim=1)\n",
    "        correct = pred[data.val_mask] == data.y[data.val_mask]\n",
    "        acc = int(correct.sum()) / int(data.val_mask.sum())\n",
    "    return acc\n",
    "\n",
    "losses, val_accuracies = [], []\n",
    "# 训练循环\n",
    "for epoch in range(NUM_EPOCHS):\n",
    "    loss = train()\n",
    "    val_acc = validate()\n",
    "    losses.append(loss)\n",
    "    val_accuracies.append(val_acc)\n",
    "    print(f'Epoch: {epoch}, Loss: {loss:.4f}, Val Acc: {val_acc:.4f}')\n",
    "    \n",
    "# 保存模型\n",
    "torch.save(model.state_dict(), f'model_{model.name}_state_dict.pt')\n"
   ],
   "metadata": {
    "collapsed": false,
    "ExecuteTime": {
     "end_time": "2023-11-30T08:21:59.704804482Z",
     "start_time": "2023-11-30T08:21:58.383580507Z"
    }
   },
   "id": "55404234dea338aa"
  },
  {
   "cell_type": "markdown",
   "source": [
    "## 十、实验结果分析\n",
    "------"
   ],
   "metadata": {
    "collapsed": false
   },
   "id": "3526367f98836758"
  },
  {
   "cell_type": "code",
   "execution_count": 10,
   "outputs": [
    {
     "data": {
      "text/plain": "<Figure size 1200x500 with 2 Axes>",
      "image/png": "[encoded data removed]"
     },
     "metadata": {},
     "output_type": "display_data"
    }
   ],
   "source": [
    "plt.figure(figsize=(12, 5))\n",
    "\n",
    "# 绘制损失\n",
    "plt.subplot(1, 2, 1)\n",
    "plt.plot(losses, label='Training Loss')\n",
    "plt.title('Training Loss')\n",
    "plt.xlabel('Epoch')\n",
    "plt.ylabel('Loss')\n",
    "plt.legend()\n",
    "\n",
    "# 绘制验证准确率\n",
    "plt.subplot(1, 2, 2)\n",
    "plt.plot(val_accuracies, label='Validation Accuracy')\n",
    "plt.title('Validation Accuracy')\n",
    "plt.xlabel('Epoch')\n",
    "plt.ylabel('Accuracy')\n",
    "plt.legend()\n",
    "\n",
    "plt.tight_layout()\n",
    "plt.show()"
   ],
   "metadata": {
    "collapsed": false,
    "ExecuteTime": {
     "end_time": "2023-11-30T08:19:43.151335750Z",
     "start_time": "2023-11-30T08:19:42.968363514Z"
    }
   },
   "id": "3eae7bcf5085ef60"
  },
  {
   "cell_type": "markdown",
   "source": [
    "#### created by 2021213368张瀚墨, 2023/11/27"
   ],
   "metadata": {
    "collapsed": false
   },
   "id": "5f29043e549865bd"
  },
  {
   "cell_type": "code",
   "execution_count": 11,
   "outputs": [
    {
     "name": "stdout",
     "output_type": "stream",
     "text": [
      "the end...\n"
     ]
    }
   ],
   "source": [
    "print('the end...')"
   ],
   "metadata": {
    "collapsed": false,
    "ExecuteTime": {
     "end_time": "2023-11-30T08:19:43.153949353Z",
     "start_time": "2023-11-30T08:19:43.151579785Z"
    }
   },
   "id": "9fd5dc790da32d51"
  }
 ],
 "metadata": {
  "kernelspec": {
   "display_name": "Python 3",
   "language": "python",
   "name": "python3"
  },
  "language_info": {
   "codemirror_mode": {
    "name": "ipython",
    "version": 2
   },
   "file_extension": ".py",
   "mimetype": "text/x-python",
   "name": "python",
   "nbconvert_exporter": "python",
   "pygments_lexer": "ipython2",
   "version": "2.7.6"
  }
 },
 "nbformat": 4,
 "nbformat_minor": 5
}
